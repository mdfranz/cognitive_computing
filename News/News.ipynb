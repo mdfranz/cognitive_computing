{
 "cells": [
  {
   "cell_type": "markdown",
   "metadata": {},
   "source": [
    "Takes the news and extracts the First phrase to be used as seed"
   ]
  },
  {
   "cell_type": "code",
   "execution_count": 1,
   "metadata": {},
   "outputs": [],
   "source": [
    "import pandas as pd\n",
    "import numpy as np"
   ]
  },
  {
   "cell_type": "code",
   "execution_count": 2,
   "metadata": {},
   "outputs": [],
   "source": [
    "df = pd.read_csv('news.csv', index_col=0)\n",
    "df = df[['Article Title','Article Link', 'Article Content']]"
   ]
  },
  {
   "cell_type": "code",
   "execution_count": 3,
   "metadata": {},
   "outputs": [
    {
     "data": {
      "text/html": "<div>\n<style scoped>\n    .dataframe tbody tr th:only-of-type {\n        vertical-align: middle;\n    }\n\n    .dataframe tbody tr th {\n        vertical-align: top;\n    }\n\n    .dataframe thead th {\n        text-align: right;\n    }\n</style>\n<table border=\"1\" class=\"dataframe\">\n  <thead>\n    <tr style=\"text-align: right;\">\n      <th></th>\n      <th>Article Title</th>\n      <th>Article Link</th>\n      <th>Article Content</th>\n    </tr>\n  </thead>\n  <tbody>\n    <tr>\n      <th>0</th>\n      <td>Billionaire Bill Ackman says 'America will end...</td>\n      <td>https://www.dailymail.co.uk/news/article-81271...</td>\n      <td>Billionaire Bill Ackman has warned that 'Ameri...</td>\n    </tr>\n    <tr>\n      <th>1</th>\n      <td>'Millennials cannot keep having these large ga...</td>\n      <td>https://www.dailymail.co.uk/health/article-812...</td>\n      <td>Children and young adults may not be as safe f...</td>\n    </tr>\n    <tr>\n      <th>2</th>\n      <td>US academics argue that a shutdown of just fiv...</td>\n      <td>https://www.dailymail.co.uk/news/article-81265...</td>\n      <td>A new academic paper argues that a lockdown of...</td>\n    </tr>\n    <tr>\n      <th>3</th>\n      <td>Famed NYC restaurateur Danny Meyer, behind Gra...</td>\n      <td>https://www.dailymail.co.uk/news/article-81272...</td>\n      <td>Union Square Hospitality Group, the New York C...</td>\n    </tr>\n    <tr>\n      <th>4</th>\n      <td>From bread to milk: How long your food essenti...</td>\n      <td>https://www.dailymail.co.uk/femail/article-812...</td>\n      <td>As thousands across Australia work from home o...</td>\n    </tr>\n    <tr>\n      <th>5</th>\n      <td>Trump says 20% unemployment is 'an absolute, t...</td>\n      <td>https://www.dailymail.co.uk/news/article-81257...</td>\n      <td>Donald Trump said Wednesday that he doesn't ag...</td>\n    </tr>\n    <tr>\n      <th>6</th>\n      <td>Trump says he's a 'wartime President' and call...</td>\n      <td>https://www.dailymail.co.uk/news/article-81272...</td>\n      <td>President Trump said Wednesday that he fashion...</td>\n    </tr>\n    <tr>\n      <th>7</th>\n      <td>Victims' fury as Epstein's 'procurer' Ghislain...</td>\n      <td>https://www.dailymail.co.uk/news/article-81273...</td>\n      <td>Jeffrey Epstein's 'madam' Ghislaine Maxwell is...</td>\n    </tr>\n    <tr>\n      <th>8</th>\n      <td>Angela Merkel declares coronavirus the 'bigges...</td>\n      <td>https://www.dailymail.co.uk/news/article-81273...</td>\n      <td>Angela Merkel today declared coronavirus the '...</td>\n    </tr>\n    <tr>\n      <th>9</th>\n      <td>Defiant bar owners ignore governors' orders to...</td>\n      <td>https://www.dailymail.co.uk/news/article-81263...</td>\n      <td>Bar owners and staff are defying state orders ...</td>\n    </tr>\n  </tbody>\n</table>\n</div>",
      "text/plain": "                                       Article Title  \\\n0  Billionaire Bill Ackman says 'America will end...   \n1  'Millennials cannot keep having these large ga...   \n2  US academics argue that a shutdown of just fiv...   \n3  Famed NYC restaurateur Danny Meyer, behind Gra...   \n4  From bread to milk: How long your food essenti...   \n5  Trump says 20% unemployment is 'an absolute, t...   \n6  Trump says he's a 'wartime President' and call...   \n7  Victims' fury as Epstein's 'procurer' Ghislain...   \n8  Angela Merkel declares coronavirus the 'bigges...   \n9  Defiant bar owners ignore governors' orders to...   \n\n                                        Article Link  \\\n0  https://www.dailymail.co.uk/news/article-81271...   \n1  https://www.dailymail.co.uk/health/article-812...   \n2  https://www.dailymail.co.uk/news/article-81265...   \n3  https://www.dailymail.co.uk/news/article-81272...   \n4  https://www.dailymail.co.uk/femail/article-812...   \n5  https://www.dailymail.co.uk/news/article-81257...   \n6  https://www.dailymail.co.uk/news/article-81272...   \n7  https://www.dailymail.co.uk/news/article-81273...   \n8  https://www.dailymail.co.uk/news/article-81273...   \n9  https://www.dailymail.co.uk/news/article-81263...   \n\n                                     Article Content  \n0  Billionaire Bill Ackman has warned that 'Ameri...  \n1  Children and young adults may not be as safe f...  \n2  A new academic paper argues that a lockdown of...  \n3  Union Square Hospitality Group, the New York C...  \n4  As thousands across Australia work from home o...  \n5  Donald Trump said Wednesday that he doesn't ag...  \n6  President Trump said Wednesday that he fashion...  \n7  Jeffrey Epstein's 'madam' Ghislaine Maxwell is...  \n8  Angela Merkel today declared coronavirus the '...  \n9  Bar owners and staff are defying state orders ...  "
     },
     "execution_count": 3,
     "metadata": {},
     "output_type": "execute_result"
    }
   ],
   "source": [
    "df.head(10)"
   ]
  },
  {
   "cell_type": "code",
   "execution_count": 4,
   "metadata": {},
   "outputs": [
    {
     "data": {
      "text/plain": "0    Billionaire Bill Ackman has warned that 'Ameri...\n0    Donald Trump doubled down Tuesday afterChinala...\n0    Harsh criticism rained on the Trump administra...\n0    President Donald Trump will hold a press confe...\n0    The latest figures show the biggest 24 hour ju...\n0    Coronavirus, or Covid-19, has now killed 35 pe...\n0    The UK government said it would discuss how to...\n0    British Airways has warned staff it is in a fi...\n0    The coronavirus epidemic in the UK will last u...\n0    Schools across England are struggling to stay ...\n0    Researchers say the latest evidence about sile...\n0    Fears over the rapidly growing number of coron...\n0    Trading on the New York Stock Exchange was hal...\nName: Article Content, dtype: object"
     },
     "execution_count": 4,
     "metadata": {},
     "output_type": "execute_result"
    }
   ],
   "source": [
    "df['Article Content'][0]"
   ]
  },
  {
   "cell_type": "code",
   "execution_count": 5,
   "metadata": {},
   "outputs": [],
   "source": [
    "df['First'] = df['Article Content'].str.split(\".\",n = 1, expand = True)[0]"
   ]
  },
  {
   "cell_type": "code",
   "execution_count": 6,
   "metadata": {},
   "outputs": [
    {
     "data": {
      "text/plain": "0    Billionaire Bill Ackman has warned that 'Ameri...\n0    Donald Trump doubled down Tuesday afterChinala...\n0    Harsh criticism rained on the Trump administra...\n0    President Donald Trump will hold a press confe...\n0    The latest figures show the biggest 24 hour ju...\n0    Coronavirus, or Covid-19, has now killed 35 pe...\n0    The UK government said it would discuss how to...\n0    British Airways has warned staff it is in a fi...\n0    The coronavirus epidemic in the UK will last u...\n0    Schools across England are struggling to stay ...\n0    Researchers say the latest evidence about sile...\n0    Fears over the rapidly growing number of coron...\n0    Trading on the New York Stock Exchange was hal...\nName: First, dtype: object"
     },
     "execution_count": 6,
     "metadata": {},
     "output_type": "execute_result"
    }
   ],
   "source": [
    "df['First'][0]"
   ]
  },
  {
   "cell_type": "code",
   "execution_count": 7,
   "metadata": {},
   "outputs": [
    {
     "data": {
      "text/html": "<div>\n<style scoped>\n    .dataframe tbody tr th:only-of-type {\n        vertical-align: middle;\n    }\n\n    .dataframe tbody tr th {\n        vertical-align: top;\n    }\n\n    .dataframe thead th {\n        text-align: right;\n    }\n</style>\n<table border=\"1\" class=\"dataframe\">\n  <thead>\n    <tr style=\"text-align: right;\">\n      <th></th>\n      <th>Article Title</th>\n      <th>Article Link</th>\n      <th>Article Content</th>\n      <th>First</th>\n    </tr>\n  </thead>\n  <tbody>\n    <tr>\n      <th>0</th>\n      <td>Billionaire Bill Ackman says 'America will end...</td>\n      <td>https://www.dailymail.co.uk/news/article-81271...</td>\n      <td>Billionaire Bill Ackman has warned that 'Ameri...</td>\n      <td>Billionaire Bill Ackman has warned that 'Ameri...</td>\n    </tr>\n    <tr>\n      <th>1</th>\n      <td>'Millennials cannot keep having these large ga...</td>\n      <td>https://www.dailymail.co.uk/health/article-812...</td>\n      <td>Children and young adults may not be as safe f...</td>\n      <td>Children and young adults may not be as safe f...</td>\n    </tr>\n    <tr>\n      <th>2</th>\n      <td>US academics argue that a shutdown of just fiv...</td>\n      <td>https://www.dailymail.co.uk/news/article-81265...</td>\n      <td>A new academic paper argues that a lockdown of...</td>\n      <td>A new academic paper argues that a lockdown of...</td>\n    </tr>\n    <tr>\n      <th>3</th>\n      <td>Famed NYC restaurateur Danny Meyer, behind Gra...</td>\n      <td>https://www.dailymail.co.uk/news/article-81272...</td>\n      <td>Union Square Hospitality Group, the New York C...</td>\n      <td>Union Square Hospitality Group, the New York C...</td>\n    </tr>\n    <tr>\n      <th>4</th>\n      <td>From bread to milk: How long your food essenti...</td>\n      <td>https://www.dailymail.co.uk/femail/article-812...</td>\n      <td>As thousands across Australia work from home o...</td>\n      <td>As thousands across Australia work from home o...</td>\n    </tr>\n    <tr>\n      <th>...</th>\n      <td>...</td>\n      <td>...</td>\n      <td>...</td>\n      <td>...</td>\n    </tr>\n    <tr>\n      <th>11</th>\n      <td>Donald Trump's top economic advisers will pres...</td>\n      <td>https://www.dailymail.co.uk/news/article-80920...</td>\n      <td>Top economic advisors are planning to present ...</td>\n      <td>Top economic advisors are planning to present ...</td>\n    </tr>\n    <tr>\n      <th>12</th>\n      <td>PIERS MORGAN: Stop playing down the deadly thr...</td>\n      <td>https://www.dailymail.co.uk/news/article-80922...</td>\n      <td>'Face reality as it is, not as it was, or as y...</td>\n      <td>'Face reality as it is, not as it was, or as y...</td>\n    </tr>\n    <tr>\n      <th>13</th>\n      <td>Jack Dorsey will keep his job as Twitter CEO a...</td>\n      <td>https://www.dailymail.co.uk/news/article-80917...</td>\n      <td>Twitter says it's reached an investment deal w...</td>\n      <td>Twitter says it's reached an investment deal w...</td>\n    </tr>\n    <tr>\n      <th>14</th>\n      <td>Harvey Weinstein 'is being treated for concuss...</td>\n      <td>https://www.dailymail.co.uk/news/article-80908...</td>\n      <td>Harvey Weinstein is being treated for concussi...</td>\n      <td>Harvey Weinstein is being treated for concussi...</td>\n    </tr>\n    <tr>\n      <th>15</th>\n      <td>Harry and Meghan are all smiles as William and...</td>\n      <td>https://www.dailymail.co.uk/news/article-80919...</td>\n      <td>NaN</td>\n      <td>NaN</td>\n    </tr>\n  </tbody>\n</table>\n<p>623 rows × 4 columns</p>\n</div>",
      "text/plain": "                                        Article Title  \\\n0   Billionaire Bill Ackman says 'America will end...   \n1   'Millennials cannot keep having these large ga...   \n2   US academics argue that a shutdown of just fiv...   \n3   Famed NYC restaurateur Danny Meyer, behind Gra...   \n4   From bread to milk: How long your food essenti...   \n..                                                ...   \n11  Donald Trump's top economic advisers will pres...   \n12  PIERS MORGAN: Stop playing down the deadly thr...   \n13  Jack Dorsey will keep his job as Twitter CEO a...   \n14  Harvey Weinstein 'is being treated for concuss...   \n15  Harry and Meghan are all smiles as William and...   \n\n                                         Article Link  \\\n0   https://www.dailymail.co.uk/news/article-81271...   \n1   https://www.dailymail.co.uk/health/article-812...   \n2   https://www.dailymail.co.uk/news/article-81265...   \n3   https://www.dailymail.co.uk/news/article-81272...   \n4   https://www.dailymail.co.uk/femail/article-812...   \n..                                                ...   \n11  https://www.dailymail.co.uk/news/article-80920...   \n12  https://www.dailymail.co.uk/news/article-80922...   \n13  https://www.dailymail.co.uk/news/article-80917...   \n14  https://www.dailymail.co.uk/news/article-80908...   \n15  https://www.dailymail.co.uk/news/article-80919...   \n\n                                      Article Content  \\\n0   Billionaire Bill Ackman has warned that 'Ameri...   \n1   Children and young adults may not be as safe f...   \n2   A new academic paper argues that a lockdown of...   \n3   Union Square Hospitality Group, the New York C...   \n4   As thousands across Australia work from home o...   \n..                                                ...   \n11  Top economic advisors are planning to present ...   \n12  'Face reality as it is, not as it was, or as y...   \n13  Twitter says it's reached an investment deal w...   \n14  Harvey Weinstein is being treated for concussi...   \n15                                                NaN   \n\n                                                First  \n0   Billionaire Bill Ackman has warned that 'Ameri...  \n1   Children and young adults may not be as safe f...  \n2   A new academic paper argues that a lockdown of...  \n3   Union Square Hospitality Group, the New York C...  \n4   As thousands across Australia work from home o...  \n..                                                ...  \n11  Top economic advisors are planning to present ...  \n12  'Face reality as it is, not as it was, or as y...  \n13  Twitter says it's reached an investment deal w...  \n14  Harvey Weinstein is being treated for concussi...  \n15                                                NaN  \n\n[623 rows x 4 columns]"
     },
     "execution_count": 7,
     "metadata": {},
     "output_type": "execute_result"
    }
   ],
   "source": [
    "df"
   ]
  },
  {
   "cell_type": "code",
   "execution_count": 10,
   "metadata": {},
   "outputs": [],
   "source": [
    "df.to_csv('news_clean.csv')"
   ]
  }
 ],
 "metadata": {
  "kernelspec": {
   "display_name": "Python 3",
   "language": "python",
   "name": "python3"
  },
  "language_info": {
   "codemirror_mode": {
    "name": "ipython",
    "version": 3
   },
   "file_extension": ".py",
   "mimetype": "text/x-python",
   "name": "python",
   "nbconvert_exporter": "python",
   "pygments_lexer": "ipython3",
   "version": "3.7.6-final"
  }
 },
 "nbformat": 4,
 "nbformat_minor": 4
}